import pandas as pd
import matplotlib.pyplot as plt

print("Hello, Jupyter inside VS Code!")
