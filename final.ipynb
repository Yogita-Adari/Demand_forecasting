{
 "cells": [
  {
   "cell_type": "code",
   "execution_count": null,
   "id": "1e61c4e6",
   "metadata": {},
   "outputs": [],
   "source": [
    "import pandas as pd\n",
    "print(\"lmoa its working\")"
   ]
  }
 ],
 "metadata": {
  "language_info": {
   "name": "python"
  }
 },
 "nbformat": 4,
 "nbformat_minor": 5
}
